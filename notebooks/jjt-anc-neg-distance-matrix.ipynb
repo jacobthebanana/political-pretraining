{
 "cells": [
  {
   "cell_type": "markdown",
   "metadata": {},
   "source": [
    "Part of the training data pipeline (triplet mining) requires calculating pairwise distance between a list of anchor embeddings and a list of negative embeddings. The function `src.models.train_model.get_anc_neg_distance` implements this logic. This notebook demonstrates the jax-numpy magic inside that function.\n",
    "\n",
    "Input: \n",
    "- anc_embeddings (train_batch_size, embedding_dim)\n",
    "- neg_embeddings (eval_batch_size, embedding_dim)\n",
    "\n",
    "Output:\n",
    "- Array (eval_batch_size, train_batch_size), where the ($j$, $k$) entry is the squared L2 distance between the $j$-th negative embedding and the $k$-th anchor embedding."
   ]
  },
  {
   "cell_type": "code",
   "execution_count": null,
   "metadata": {},
   "outputs": [],
   "source": [
    "import jax.numpy as jnp"
   ]
  },
  {
   "cell_type": "code",
   "execution_count": null,
   "metadata": {},
   "outputs": [],
   "source": [
    "train_batch_size = 5  # anc batch size\n",
    "eval_batch_size = 7  # neg batch size\n",
    "embedding_dim = 2"
   ]
  },
  {
   "cell_type": "code",
   "execution_count": null,
   "metadata": {},
   "outputs": [],
   "source": [
    "# The output should be zero everywhere except along row 1 or column 0, \n",
    "# but zero at (1, 0)\n",
    "anc_embeddings = jnp.zeros((train_batch_size, embedding_dim)).at[0, :].set(1)\n",
    "neg_embeddings = jnp.zeros((eval_batch_size, embedding_dim)).at[1, :].set(1)"
   ]
  },
  {
   "cell_type": "code",
   "execution_count": null,
   "metadata": {},
   "outputs": [],
   "source": [
    "print(anc_embeddings)"
   ]
  },
  {
   "cell_type": "code",
   "execution_count": null,
   "metadata": {},
   "outputs": [],
   "source": [
    "print(neg_embeddings)"
   ]
  },
  {
   "cell_type": "markdown",
   "metadata": {},
   "source": [
    "By default, `numpy.repeat` flattens the array. Dimensions should be presented in the same order as original while reshaping."
   ]
  },
  {
   "cell_type": "code",
   "execution_count": null,
   "metadata": {},
   "outputs": [],
   "source": [
    "anc_embeddings_repeated = jnp.repeat(\n",
    "    anc_embeddings, neg_embeddings.shape[0], axis=-1\n",
    ").reshape((anc_embeddings.shape[0], neg_embeddings.shape[0], embedding_dim))\n",
    "\n",
    "print(anc_embeddings_repeated.shape)\n",
    "print(anc_embeddings_repeated)"
   ]
  },
  {
   "cell_type": "code",
   "execution_count": null,
   "metadata": {},
   "outputs": [],
   "source": [
    "# (\n",
    "#     eval_batch_size * num_devices,\n",
    "#     train_batch_size * num_devices,\n",
    "#     embedding_dim,\n",
    "# )\n",
    "anc_embeddings_repeated_transposed = jnp.transpose(\n",
    "    anc_embeddings_repeated, axes=(1, 0, 2)\n",
    ")\n",
    "\n",
    "print(anc_embeddings_repeated_transposed.shape)\n",
    "print(anc_embeddings_repeated_transposed)"
   ]
  },
  {
   "cell_type": "code",
   "execution_count": null,
   "metadata": {},
   "outputs": [],
   "source": [
    "neg_embeddings_repeated = jnp.repeat(\n",
    "    neg_embeddings, anc_embeddings.shape[0], axis=-1\n",
    ").reshape((neg_embeddings.shape[0], anc_embeddings.shape[0], embedding_dim))\n",
    "\n",
    "print(neg_embeddings_repeated.shape)\n",
    "print(neg_embeddings_repeated)"
   ]
  },
  {
   "cell_type": "code",
   "execution_count": null,
   "metadata": {},
   "outputs": [],
   "source": [
    "squared_difference = (\n",
    "    (anc_embeddings_repeated_transposed - neg_embeddings_repeated) \n",
    "    * (anc_embeddings_repeated_transposed - neg_embeddings_repeated)\n",
    ")\n",
    "\n",
    "print(squared_difference.shape)\n",
    "print(squared_difference)"
   ]
  },
  {
   "cell_type": "code",
   "execution_count": null,
   "metadata": {},
   "outputs": [],
   "source": [
    "anc_neg_l2_difference = jnp.sum(squared_difference, axis=-1)\n",
    "print(anc_neg_l2_difference.shape)\n",
    "print(anc_neg_l2_difference)"
   ]
  },
  {
   "cell_type": "code",
   "execution_count": null,
   "metadata": {},
   "outputs": [],
   "source": [
    "Array = jnp.ndarray\n",
    "\n",
    "def squared_l2_distance(x_1: Array, x_2: Array) -> Array:\n",
    "    \"\"\"\n",
    "    Compute squared L2 distance along axis (-1).\n",
    "\n",
    "    Args:\n",
    "     x_1: (a, b, n)\n",
    "     x_2: (a, b, n)\n",
    "\n",
    "    Returns:\n",
    "     (a, b). || x_1 - x_2 ||^{2}.\n",
    "    \"\"\"\n",
    "    squared_difference = (x_1 - x_2) * (x_1 - x_2)\n",
    "\n",
    "    l2_difference: Array = jnp.sum(squared_difference, axis=-1)\n",
    "    return l2_difference\n"
   ]
  },
  {
   "cell_type": "code",
   "execution_count": null,
   "metadata": {},
   "outputs": [],
   "source": [
    "pos_embeddings = jnp.zeros((train_batch_size, embedding_dim)).at[-1, :].set(-1/2)\n",
    "\n",
    "n_anc = anc_embeddings.shape[0]\n",
    "n_neg = neg_embeddings.shape[0]\n",
    "embedding_dim = anc_embeddings.shape[-1]\n",
    "\n",
    "# (n_anc,)\n",
    "anc_pos_distances = squared_l2_distance(anc_embeddings, pos_embeddings)\n",
    "\n",
    "# (n_neg, n_anc)\n",
    "anc_pos_distances_repeated = jnp.repeat(\n",
    "    anc_pos_distances, \n",
    "    repeats=n_neg, \n",
    "    axis=0\n",
    ").reshape((n_anc, n_neg)).transpose()\n",
    "\n",
    "print(anc_pos_distances_repeated.shape)\n",
    "print(anc_pos_distances_repeated)"
   ]
  },
  {
   "cell_type": "code",
   "execution_count": null,
   "metadata": {},
   "outputs": [],
   "source": [
    "print(anc_neg_l2_difference - anc_pos_distances_repeated)"
   ]
  }
 ],
 "metadata": {
  "kernelspec": {
   "display_name": "Python 3.8.10 ('env': venv)",
   "language": "python",
   "name": "python3"
  },
  "language_info": {
   "codemirror_mode": {
    "name": "ipython",
    "version": 3
   },
   "file_extension": ".py",
   "mimetype": "text/x-python",
   "name": "python",
   "nbconvert_exporter": "python",
   "pygments_lexer": "ipython3",
   "version": "3.8.10"
  },
  "orig_nbformat": 4,
  "vscode": {
   "interpreter": {
    "hash": "19c0b1ba95b54e87f45d2e112177050419b1c2e1989e1edcdae390d1af6cd816"
   }
  }
 },
 "nbformat": 4,
 "nbformat_minor": 2
}

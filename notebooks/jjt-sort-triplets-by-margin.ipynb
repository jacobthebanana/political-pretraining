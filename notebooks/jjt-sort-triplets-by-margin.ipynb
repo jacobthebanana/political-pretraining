{
 "cells": [
  {
   "cell_type": "code",
   "execution_count": null,
   "metadata": {},
   "outputs": [],
   "source": [
    "import jax\n",
    "from jax import numpy as jnp"
   ]
  },
  {
   "cell_type": "code",
   "execution_count": null,
   "metadata": {},
   "outputs": [],
   "source": [
    "num_anc = 5 \n",
    "num_neg = 7\n",
    "\n",
    "neg_indices = jnp.arange(num_neg)\n",
    "anc_indices = jnp.arange(num_anc)\n",
    "\n",
    "neg_indices_repeated = jnp.repeat(neg_indices, num_anc).reshape((num_neg, num_anc))\n",
    "anc_indices_repeated = jnp.repeat(anc_indices, num_neg).reshape((num_anc, num_neg)).T\n",
    "\n",
    "print(neg_indices_repeated.shape)\n",
    "print(neg_indices_repeated)\n",
    "\n",
    "print(anc_indices_repeated.shape)\n",
    "print(anc_indices_repeated)"
   ]
  },
  {
   "cell_type": "code",
   "execution_count": null,
   "metadata": {},
   "outputs": [],
   "source": [
    "keys = -jnp.arange(num_neg * num_anc).reshape((num_neg, num_anc))\n",
    "keys_sorted_flattened, values_sorted_flattened = jax.lax.sort_key_val(keys.flatten(), -keys.flatten())\n",
    "keys_sorted = keys_sorted_flattened.reshape(keys.shape)\n",
    "values_sorted = values_sorted_flattened.reshape(keys.shape)\n",
    "print(keys)\n",
    "print(keys_sorted)\n",
    "print(values_sorted)"
   ]
  }
 ],
 "metadata": {
  "kernelspec": {
   "display_name": "Python 3.8.10 ('env': venv)",
   "language": "python",
   "name": "python3"
  },
  "language_info": {
   "codemirror_mode": {
    "name": "ipython",
    "version": 3
   },
   "file_extension": ".py",
   "mimetype": "text/x-python",
   "name": "python",
   "nbconvert_exporter": "python",
   "pygments_lexer": "ipython3",
   "version": "3.8.10"
  },
  "orig_nbformat": 4,
  "vscode": {
   "interpreter": {
    "hash": "19c0b1ba95b54e87f45d2e112177050419b1c2e1989e1edcdae390d1af6cd816"
   }
  }
 },
 "nbformat": 4,
 "nbformat_minor": 2
}
